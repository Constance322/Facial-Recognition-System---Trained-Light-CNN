{
  "nbformat": 4,
  "nbformat_minor": 0,
  "metadata": {
    "colab": {
      "provenance": [],
      "gpuType": "T4"
    },
    "kernelspec": {
      "name": "python3",
      "display_name": "Python 3"
    },
    "language_info": {
      "name": "python"
    },
    "accelerator": "GPU"
  },
  "cells": [
    {
      "cell_type": "code",
      "source": [
        "!pip install scikit-learn numpy tensorflow keras\n"
      ],
      "metadata": {
        "colab": {
          "base_uri": "https://localhost:8080/"
        },
        "id": "dVioaZTrL3OL",
        "outputId": "ee97cee0-4866-417c-aa4e-1f9da0e75506"
      },
      "execution_count": null,
      "outputs": [
        {
          "output_type": "stream",
          "name": "stdout",
          "text": [
            "Requirement already satisfied: scikit-learn in /usr/local/lib/python3.10/dist-packages (1.2.2)\n",
            "Requirement already satisfied: numpy in /usr/local/lib/python3.10/dist-packages (1.23.5)\n",
            "Requirement already satisfied: tensorflow in /usr/local/lib/python3.10/dist-packages (2.13.0)\n",
            "Requirement already satisfied: keras in /usr/local/lib/python3.10/dist-packages (2.13.1)\n",
            "Requirement already satisfied: scipy>=1.3.2 in /usr/local/lib/python3.10/dist-packages (from scikit-learn) (1.11.2)\n",
            "Requirement already satisfied: joblib>=1.1.1 in /usr/local/lib/python3.10/dist-packages (from scikit-learn) (1.3.2)\n",
            "Requirement already satisfied: threadpoolctl>=2.0.0 in /usr/local/lib/python3.10/dist-packages (from scikit-learn) (3.2.0)\n",
            "Requirement already satisfied: absl-py>=1.0.0 in /usr/local/lib/python3.10/dist-packages (from tensorflow) (1.4.0)\n",
            "Requirement already satisfied: astunparse>=1.6.0 in /usr/local/lib/python3.10/dist-packages (from tensorflow) (1.6.3)\n",
            "Requirement already satisfied: flatbuffers>=23.1.21 in /usr/local/lib/python3.10/dist-packages (from tensorflow) (23.5.26)\n",
            "Requirement already satisfied: gast<=0.4.0,>=0.2.1 in /usr/local/lib/python3.10/dist-packages (from tensorflow) (0.4.0)\n",
            "Requirement already satisfied: google-pasta>=0.1.1 in /usr/local/lib/python3.10/dist-packages (from tensorflow) (0.2.0)\n",
            "Requirement already satisfied: grpcio<2.0,>=1.24.3 in /usr/local/lib/python3.10/dist-packages (from tensorflow) (1.57.0)\n",
            "Requirement already satisfied: h5py>=2.9.0 in /usr/local/lib/python3.10/dist-packages (from tensorflow) (3.9.0)\n",
            "Requirement already satisfied: libclang>=13.0.0 in /usr/local/lib/python3.10/dist-packages (from tensorflow) (16.0.6)\n",
            "Requirement already satisfied: opt-einsum>=2.3.2 in /usr/local/lib/python3.10/dist-packages (from tensorflow) (3.3.0)\n",
            "Requirement already satisfied: packaging in /usr/local/lib/python3.10/dist-packages (from tensorflow) (23.1)\n",
            "Requirement already satisfied: protobuf!=4.21.0,!=4.21.1,!=4.21.2,!=4.21.3,!=4.21.4,!=4.21.5,<5.0.0dev,>=3.20.3 in /usr/local/lib/python3.10/dist-packages (from tensorflow) (3.20.3)\n",
            "Requirement already satisfied: setuptools in /usr/local/lib/python3.10/dist-packages (from tensorflow) (67.7.2)\n",
            "Requirement already satisfied: six>=1.12.0 in /usr/local/lib/python3.10/dist-packages (from tensorflow) (1.16.0)\n",
            "Requirement already satisfied: tensorboard<2.14,>=2.13 in /usr/local/lib/python3.10/dist-packages (from tensorflow) (2.13.0)\n",
            "Requirement already satisfied: tensorflow-estimator<2.14,>=2.13.0 in /usr/local/lib/python3.10/dist-packages (from tensorflow) (2.13.0)\n",
            "Requirement already satisfied: termcolor>=1.1.0 in /usr/local/lib/python3.10/dist-packages (from tensorflow) (2.3.0)\n",
            "Requirement already satisfied: typing-extensions<4.6.0,>=3.6.6 in /usr/local/lib/python3.10/dist-packages (from tensorflow) (4.5.0)\n",
            "Requirement already satisfied: wrapt>=1.11.0 in /usr/local/lib/python3.10/dist-packages (from tensorflow) (1.15.0)\n",
            "Requirement already satisfied: tensorflow-io-gcs-filesystem>=0.23.1 in /usr/local/lib/python3.10/dist-packages (from tensorflow) (0.33.0)\n",
            "Requirement already satisfied: wheel<1.0,>=0.23.0 in /usr/local/lib/python3.10/dist-packages (from astunparse>=1.6.0->tensorflow) (0.41.2)\n",
            "Requirement already satisfied: google-auth<3,>=1.6.3 in /usr/local/lib/python3.10/dist-packages (from tensorboard<2.14,>=2.13->tensorflow) (2.17.3)\n",
            "Requirement already satisfied: google-auth-oauthlib<1.1,>=0.5 in /usr/local/lib/python3.10/dist-packages (from tensorboard<2.14,>=2.13->tensorflow) (1.0.0)\n",
            "Requirement already satisfied: markdown>=2.6.8 in /usr/local/lib/python3.10/dist-packages (from tensorboard<2.14,>=2.13->tensorflow) (3.4.4)\n",
            "Requirement already satisfied: requests<3,>=2.21.0 in /usr/local/lib/python3.10/dist-packages (from tensorboard<2.14,>=2.13->tensorflow) (2.31.0)\n",
            "Requirement already satisfied: tensorboard-data-server<0.8.0,>=0.7.0 in /usr/local/lib/python3.10/dist-packages (from tensorboard<2.14,>=2.13->tensorflow) (0.7.1)\n",
            "Requirement already satisfied: werkzeug>=1.0.1 in /usr/local/lib/python3.10/dist-packages (from tensorboard<2.14,>=2.13->tensorflow) (2.3.7)\n",
            "Requirement already satisfied: cachetools<6.0,>=2.0.0 in /usr/local/lib/python3.10/dist-packages (from google-auth<3,>=1.6.3->tensorboard<2.14,>=2.13->tensorflow) (5.3.1)\n",
            "Requirement already satisfied: pyasn1-modules>=0.2.1 in /usr/local/lib/python3.10/dist-packages (from google-auth<3,>=1.6.3->tensorboard<2.14,>=2.13->tensorflow) (0.3.0)\n",
            "Requirement already satisfied: rsa<5,>=3.1.4 in /usr/local/lib/python3.10/dist-packages (from google-auth<3,>=1.6.3->tensorboard<2.14,>=2.13->tensorflow) (4.9)\n",
            "Requirement already satisfied: requests-oauthlib>=0.7.0 in /usr/local/lib/python3.10/dist-packages (from google-auth-oauthlib<1.1,>=0.5->tensorboard<2.14,>=2.13->tensorflow) (1.3.1)\n",
            "Requirement already satisfied: charset-normalizer<4,>=2 in /usr/local/lib/python3.10/dist-packages (from requests<3,>=2.21.0->tensorboard<2.14,>=2.13->tensorflow) (3.2.0)\n",
            "Requirement already satisfied: idna<4,>=2.5 in /usr/local/lib/python3.10/dist-packages (from requests<3,>=2.21.0->tensorboard<2.14,>=2.13->tensorflow) (3.4)\n",
            "Requirement already satisfied: urllib3<3,>=1.21.1 in /usr/local/lib/python3.10/dist-packages (from requests<3,>=2.21.0->tensorboard<2.14,>=2.13->tensorflow) (2.0.4)\n",
            "Requirement already satisfied: certifi>=2017.4.17 in /usr/local/lib/python3.10/dist-packages (from requests<3,>=2.21.0->tensorboard<2.14,>=2.13->tensorflow) (2023.7.22)\n",
            "Requirement already satisfied: MarkupSafe>=2.1.1 in /usr/local/lib/python3.10/dist-packages (from werkzeug>=1.0.1->tensorboard<2.14,>=2.13->tensorflow) (2.1.3)\n",
            "Requirement already satisfied: pyasn1<0.6.0,>=0.4.6 in /usr/local/lib/python3.10/dist-packages (from pyasn1-modules>=0.2.1->google-auth<3,>=1.6.3->tensorboard<2.14,>=2.13->tensorflow) (0.5.0)\n",
            "Requirement already satisfied: oauthlib>=3.0.0 in /usr/local/lib/python3.10/dist-packages (from requests-oauthlib>=0.7.0->google-auth-oauthlib<1.1,>=0.5->tensorboard<2.14,>=2.13->tensorflow) (3.2.2)\n"
          ]
        }
      ]
    },
    {
      "cell_type": "code",
      "source": [
        "from sklearn.datasets import fetch_lfw_people\n",
        "\n",
        "lfw_people = fetch_lfw_people(min_faces_per_person=70, resize=0.4)\n",
        "\n",
        "X = lfw_people.images\n",
        "y = lfw_people.target\n"
      ],
      "metadata": {
        "id": "TQsuR3dYL-Pd"
      },
      "execution_count": null,
      "outputs": []
    },
    {
      "cell_type": "code",
      "source": [
        "from sklearn.model_selection import train_test_split\n",
        "\n",
        "X_train, X_test, y_train, y_test = train_test_split(X, y, test_size=0.2, random_state=42)\n"
      ],
      "metadata": {
        "id": "IYG_eq-_MRrA"
      },
      "execution_count": null,
      "outputs": []
    },
    {
      "cell_type": "code",
      "source": [
        "from keras.models import Sequential\n",
        "from keras.layers import Conv2D, MaxPooling2D, Flatten, Dense\n",
        "\n",
        "model = Sequential([\n",
        "    Conv2D(32, kernel_size=(3, 3), activation='relu', input_shape=(50, 37, 1)),\n",
        "    MaxPooling2D(pool_size=(2, 2)),\n",
        "    Conv2D(64, kernel_size=(3, 3), activation='relu'),\n",
        "    MaxPooling2D(pool_size=(2, 2)),\n",
        "    Flatten(),\n",
        "    Dense(128, activation='relu'),\n",
        "    Dense(len(lfw_people.target_names), activation='softmax')\n",
        "])\n",
        "\n",
        "model.compile(loss='sparse_categorical_crossentropy',\n",
        "              optimizer='adam',\n",
        "              metrics=['accuracy'])\n"
      ],
      "metadata": {
        "id": "d-oaDPfQMXCX"
      },
      "execution_count": null,
      "outputs": []
    },
    {
      "cell_type": "code",
      "source": [
        "X_train = X_train.reshape(-1, 50, 37, 1)\n",
        "X_test = X_test.reshape(-1, 50, 37, 1)\n"
      ],
      "metadata": {
        "id": "b63E-2CBMdpg"
      },
      "execution_count": null,
      "outputs": []
    },
    {
      "cell_type": "code",
      "source": [
        "history = model.fit(X_train, y_train, epochs=100, validation_data=(X_test, y_test))\n"
      ],
      "metadata": {
        "colab": {
          "base_uri": "https://localhost:8080/"
        },
        "id": "jb8FOWS0Miiw",
        "outputId": "ee129f21-9ece-4729-cff3-d5296e79b313"
      },
      "execution_count": null,
      "outputs": [
        {
          "output_type": "stream",
          "name": "stdout",
          "text": [
            "Epoch 1/100\n",
            "33/33 [==============================] - 12s 16ms/step - loss: 1.7411 - accuracy: 0.3650 - val_loss: 1.6013 - val_accuracy: 0.4612\n",
            "Epoch 2/100\n",
            "33/33 [==============================] - 0s 5ms/step - loss: 1.6710 - accuracy: 0.4000 - val_loss: 1.5337 - val_accuracy: 0.4806\n",
            "Epoch 3/100\n",
            "33/33 [==============================] - 0s 5ms/step - loss: 1.5017 - accuracy: 0.4573 - val_loss: 1.2650 - val_accuracy: 0.5194\n",
            "Epoch 4/100\n",
            "33/33 [==============================] - 0s 5ms/step - loss: 1.1764 - accuracy: 0.5883 - val_loss: 0.9967 - val_accuracy: 0.6705\n",
            "Epoch 5/100\n",
            "33/33 [==============================] - 0s 5ms/step - loss: 0.8781 - accuracy: 0.7097 - val_loss: 0.7760 - val_accuracy: 0.7597\n",
            "Epoch 6/100\n",
            "33/33 [==============================] - 0s 5ms/step - loss: 0.6791 - accuracy: 0.7864 - val_loss: 0.8032 - val_accuracy: 0.7597\n",
            "Epoch 7/100\n",
            "33/33 [==============================] - 0s 6ms/step - loss: 0.5651 - accuracy: 0.8068 - val_loss: 0.6511 - val_accuracy: 0.8101\n",
            "Epoch 8/100\n",
            "33/33 [==============================] - 0s 5ms/step - loss: 0.4312 - accuracy: 0.8680 - val_loss: 0.5680 - val_accuracy: 0.8256\n",
            "Epoch 9/100\n",
            "33/33 [==============================] - 0s 5ms/step - loss: 0.3380 - accuracy: 0.8971 - val_loss: 0.5757 - val_accuracy: 0.8372\n",
            "Epoch 10/100\n",
            "33/33 [==============================] - 0s 5ms/step - loss: 0.4004 - accuracy: 0.8748 - val_loss: 0.6467 - val_accuracy: 0.8333\n",
            "Epoch 11/100\n",
            "33/33 [==============================] - 0s 6ms/step - loss: 0.2775 - accuracy: 0.9117 - val_loss: 0.5006 - val_accuracy: 0.8605\n",
            "Epoch 12/100\n",
            "33/33 [==============================] - 0s 6ms/step - loss: 0.2227 - accuracy: 0.9398 - val_loss: 0.5045 - val_accuracy: 0.8605\n",
            "Epoch 13/100\n",
            "33/33 [==============================] - 0s 6ms/step - loss: 0.1866 - accuracy: 0.9408 - val_loss: 0.4804 - val_accuracy: 0.8721\n",
            "Epoch 14/100\n",
            "33/33 [==============================] - 0s 5ms/step - loss: 0.1515 - accuracy: 0.9563 - val_loss: 0.4777 - val_accuracy: 0.8798\n",
            "Epoch 15/100\n",
            "33/33 [==============================] - 0s 6ms/step - loss: 0.1199 - accuracy: 0.9699 - val_loss: 0.5332 - val_accuracy: 0.8488\n",
            "Epoch 16/100\n",
            "33/33 [==============================] - 0s 7ms/step - loss: 0.0922 - accuracy: 0.9835 - val_loss: 0.4688 - val_accuracy: 0.8837\n",
            "Epoch 17/100\n",
            "33/33 [==============================] - 0s 5ms/step - loss: 0.0668 - accuracy: 0.9903 - val_loss: 0.4719 - val_accuracy: 0.8721\n",
            "Epoch 18/100\n",
            "33/33 [==============================] - 0s 6ms/step - loss: 0.0753 - accuracy: 0.9835 - val_loss: 0.4738 - val_accuracy: 0.8760\n",
            "Epoch 19/100\n",
            "33/33 [==============================] - 0s 5ms/step - loss: 0.0446 - accuracy: 0.9913 - val_loss: 0.4415 - val_accuracy: 0.8876\n",
            "Epoch 20/100\n",
            "33/33 [==============================] - 0s 5ms/step - loss: 0.0329 - accuracy: 0.9951 - val_loss: 0.4345 - val_accuracy: 0.8915\n",
            "Epoch 21/100\n",
            "33/33 [==============================] - 0s 5ms/step - loss: 0.0274 - accuracy: 0.9951 - val_loss: 0.4593 - val_accuracy: 0.8798\n",
            "Epoch 22/100\n",
            "33/33 [==============================] - 0s 6ms/step - loss: 0.0220 - accuracy: 0.9971 - val_loss: 0.4450 - val_accuracy: 0.8915\n",
            "Epoch 23/100\n",
            "33/33 [==============================] - 0s 6ms/step - loss: 0.0179 - accuracy: 0.9981 - val_loss: 0.4442 - val_accuracy: 0.8915\n",
            "Epoch 24/100\n",
            "33/33 [==============================] - 0s 6ms/step - loss: 0.0164 - accuracy: 0.9981 - val_loss: 0.4425 - val_accuracy: 0.8915\n",
            "Epoch 25/100\n",
            "33/33 [==============================] - 0s 5ms/step - loss: 0.0141 - accuracy: 1.0000 - val_loss: 0.4637 - val_accuracy: 0.8876\n",
            "Epoch 26/100\n",
            "33/33 [==============================] - 0s 5ms/step - loss: 0.0094 - accuracy: 1.0000 - val_loss: 0.4726 - val_accuracy: 0.9031\n",
            "Epoch 27/100\n",
            "33/33 [==============================] - 0s 6ms/step - loss: 0.0083 - accuracy: 1.0000 - val_loss: 0.4816 - val_accuracy: 0.9031\n",
            "Epoch 28/100\n",
            "33/33 [==============================] - 0s 7ms/step - loss: 0.0088 - accuracy: 1.0000 - val_loss: 0.4804 - val_accuracy: 0.8915\n",
            "Epoch 29/100\n",
            "33/33 [==============================] - 0s 6ms/step - loss: 0.0073 - accuracy: 1.0000 - val_loss: 0.4934 - val_accuracy: 0.8876\n",
            "Epoch 30/100\n",
            "33/33 [==============================] - 0s 5ms/step - loss: 0.0057 - accuracy: 1.0000 - val_loss: 0.4878 - val_accuracy: 0.8953\n",
            "Epoch 31/100\n",
            "33/33 [==============================] - 0s 5ms/step - loss: 0.0048 - accuracy: 1.0000 - val_loss: 0.4880 - val_accuracy: 0.9031\n",
            "Epoch 32/100\n",
            "33/33 [==============================] - 0s 5ms/step - loss: 0.0044 - accuracy: 1.0000 - val_loss: 0.5073 - val_accuracy: 0.9070\n",
            "Epoch 33/100\n",
            "33/33 [==============================] - 0s 5ms/step - loss: 0.0038 - accuracy: 1.0000 - val_loss: 0.4956 - val_accuracy: 0.8992\n",
            "Epoch 34/100\n",
            "33/33 [==============================] - 0s 6ms/step - loss: 0.0035 - accuracy: 1.0000 - val_loss: 0.4960 - val_accuracy: 0.8992\n",
            "Epoch 35/100\n",
            "33/33 [==============================] - 0s 7ms/step - loss: 0.0032 - accuracy: 1.0000 - val_loss: 0.5104 - val_accuracy: 0.8953\n",
            "Epoch 36/100\n",
            "33/33 [==============================] - 0s 5ms/step - loss: 0.0029 - accuracy: 1.0000 - val_loss: 0.5122 - val_accuracy: 0.9031\n",
            "Epoch 37/100\n",
            "33/33 [==============================] - 0s 6ms/step - loss: 0.0028 - accuracy: 1.0000 - val_loss: 0.5126 - val_accuracy: 0.8992\n",
            "Epoch 38/100\n",
            "33/33 [==============================] - 0s 7ms/step - loss: 0.0026 - accuracy: 1.0000 - val_loss: 0.5225 - val_accuracy: 0.8992\n",
            "Epoch 39/100\n",
            "33/33 [==============================] - 0s 6ms/step - loss: 0.0026 - accuracy: 1.0000 - val_loss: 0.5246 - val_accuracy: 0.8992\n",
            "Epoch 40/100\n",
            "33/33 [==============================] - 0s 5ms/step - loss: 0.0023 - accuracy: 1.0000 - val_loss: 0.5430 - val_accuracy: 0.9031\n",
            "Epoch 41/100\n",
            "33/33 [==============================] - 0s 5ms/step - loss: 0.0020 - accuracy: 1.0000 - val_loss: 0.5241 - val_accuracy: 0.9031\n",
            "Epoch 42/100\n",
            "33/33 [==============================] - 0s 5ms/step - loss: 0.0019 - accuracy: 1.0000 - val_loss: 0.5352 - val_accuracy: 0.8953\n",
            "Epoch 43/100\n",
            "33/33 [==============================] - 0s 9ms/step - loss: 0.0018 - accuracy: 1.0000 - val_loss: 0.5276 - val_accuracy: 0.8992\n",
            "Epoch 44/100\n",
            "33/33 [==============================] - 0s 7ms/step - loss: 0.0020 - accuracy: 1.0000 - val_loss: 0.5384 - val_accuracy: 0.8992\n",
            "Epoch 45/100\n",
            "33/33 [==============================] - 0s 8ms/step - loss: 0.0017 - accuracy: 1.0000 - val_loss: 0.5467 - val_accuracy: 0.8992\n",
            "Epoch 46/100\n",
            "33/33 [==============================] - 0s 7ms/step - loss: 0.0015 - accuracy: 1.0000 - val_loss: 0.5486 - val_accuracy: 0.8953\n",
            "Epoch 47/100\n",
            "33/33 [==============================] - 0s 8ms/step - loss: 0.0013 - accuracy: 1.0000 - val_loss: 0.5419 - val_accuracy: 0.8953\n",
            "Epoch 48/100\n",
            "33/33 [==============================] - 0s 8ms/step - loss: 0.0012 - accuracy: 1.0000 - val_loss: 0.5556 - val_accuracy: 0.9031\n",
            "Epoch 49/100\n",
            "33/33 [==============================] - 0s 8ms/step - loss: 0.0012 - accuracy: 1.0000 - val_loss: 0.5544 - val_accuracy: 0.8992\n",
            "Epoch 50/100\n",
            "33/33 [==============================] - 0s 7ms/step - loss: 0.0012 - accuracy: 1.0000 - val_loss: 0.5550 - val_accuracy: 0.9031\n",
            "Epoch 51/100\n",
            "33/33 [==============================] - 0s 7ms/step - loss: 0.0011 - accuracy: 1.0000 - val_loss: 0.5660 - val_accuracy: 0.9031\n",
            "Epoch 52/100\n",
            "33/33 [==============================] - 0s 6ms/step - loss: 0.0010 - accuracy: 1.0000 - val_loss: 0.5587 - val_accuracy: 0.9031\n",
            "Epoch 53/100\n",
            "33/33 [==============================] - 0s 5ms/step - loss: 9.6001e-04 - accuracy: 1.0000 - val_loss: 0.5645 - val_accuracy: 0.9031\n",
            "Epoch 54/100\n",
            "33/33 [==============================] - 0s 5ms/step - loss: 9.2995e-04 - accuracy: 1.0000 - val_loss: 0.5677 - val_accuracy: 0.8992\n",
            "Epoch 55/100\n",
            "33/33 [==============================] - 0s 5ms/step - loss: 8.6220e-04 - accuracy: 1.0000 - val_loss: 0.5738 - val_accuracy: 0.8992\n",
            "Epoch 56/100\n",
            "33/33 [==============================] - 0s 5ms/step - loss: 8.3787e-04 - accuracy: 1.0000 - val_loss: 0.5717 - val_accuracy: 0.8992\n",
            "Epoch 57/100\n",
            "33/33 [==============================] - 0s 5ms/step - loss: 7.9615e-04 - accuracy: 1.0000 - val_loss: 0.5674 - val_accuracy: 0.8992\n",
            "Epoch 58/100\n",
            "33/33 [==============================] - 0s 6ms/step - loss: 7.5062e-04 - accuracy: 1.0000 - val_loss: 0.5754 - val_accuracy: 0.9031\n",
            "Epoch 59/100\n",
            "33/33 [==============================] - 0s 5ms/step - loss: 7.4201e-04 - accuracy: 1.0000 - val_loss: 0.5797 - val_accuracy: 0.8992\n",
            "Epoch 60/100\n",
            "33/33 [==============================] - 0s 6ms/step - loss: 7.0125e-04 - accuracy: 1.0000 - val_loss: 0.5831 - val_accuracy: 0.9031\n",
            "Epoch 61/100\n",
            "33/33 [==============================] - 0s 5ms/step - loss: 6.5518e-04 - accuracy: 1.0000 - val_loss: 0.5796 - val_accuracy: 0.8992\n",
            "Epoch 62/100\n",
            "33/33 [==============================] - 0s 5ms/step - loss: 5.8349e-04 - accuracy: 1.0000 - val_loss: 0.5909 - val_accuracy: 0.9031\n",
            "Epoch 65/100\n",
            "33/33 [==============================] - 0s 5ms/step - loss: 6.1299e-04 - accuracy: 1.0000 - val_loss: 0.5937 - val_accuracy: 0.8992\n",
            "Epoch 66/100\n",
            "33/33 [==============================] - 0s 6ms/step - loss: 5.3743e-04 - accuracy: 1.0000 - val_loss: 0.5969 - val_accuracy: 0.9031\n",
            "Epoch 67/100\n",
            "33/33 [==============================] - 0s 5ms/step - loss: 5.6085e-04 - accuracy: 1.0000 - val_loss: 0.5990 - val_accuracy: 0.8992\n",
            "Epoch 68/100\n",
            "33/33 [==============================] - 0s 7ms/step - loss: 4.9818e-04 - accuracy: 1.0000 - val_loss: 0.5982 - val_accuracy: 0.8992\n",
            "Epoch 69/100\n",
            "33/33 [==============================] - 0s 5ms/step - loss: 4.7640e-04 - accuracy: 1.0000 - val_loss: 0.6089 - val_accuracy: 0.8992\n",
            "Epoch 70/100\n",
            "33/33 [==============================] - 0s 5ms/step - loss: 4.5929e-04 - accuracy: 1.0000 - val_loss: 0.6085 - val_accuracy: 0.9031\n",
            "Epoch 71/100\n",
            "33/33 [==============================] - 0s 5ms/step - loss: 4.4851e-04 - accuracy: 1.0000 - val_loss: 0.6055 - val_accuracy: 0.9031\n",
            "Epoch 72/100\n",
            "33/33 [==============================] - 0s 5ms/step - loss: 4.2680e-04 - accuracy: 1.0000 - val_loss: 0.6058 - val_accuracy: 0.9031\n",
            "Epoch 73/100\n",
            "33/33 [==============================] - 0s 5ms/step - loss: 4.2460e-04 - accuracy: 1.0000 - val_loss: 0.6091 - val_accuracy: 0.9031\n",
            "Epoch 74/100\n",
            "33/33 [==============================] - 0s 6ms/step - loss: 3.9646e-04 - accuracy: 1.0000 - val_loss: 0.6097 - val_accuracy: 0.9031\n",
            "Epoch 75/100\n",
            "33/33 [==============================] - 0s 5ms/step - loss: 3.7400e-04 - accuracy: 1.0000 - val_loss: 0.6157 - val_accuracy: 0.8992\n",
            "Epoch 76/100\n",
            "33/33 [==============================] - 0s 5ms/step - loss: 3.7292e-04 - accuracy: 1.0000 - val_loss: 0.6124 - val_accuracy: 0.9031\n",
            "Epoch 77/100\n",
            "33/33 [==============================] - 0s 5ms/step - loss: 3.5277e-04 - accuracy: 1.0000 - val_loss: 0.6136 - val_accuracy: 0.8992\n",
            "Epoch 78/100\n",
            "33/33 [==============================] - 0s 5ms/step - loss: 3.3903e-04 - accuracy: 1.0000 - val_loss: 0.6187 - val_accuracy: 0.9031\n",
            "Epoch 79/100\n",
            "33/33 [==============================] - 0s 5ms/step - loss: 3.2655e-04 - accuracy: 1.0000 - val_loss: 0.6187 - val_accuracy: 0.9031\n",
            "Epoch 80/100\n",
            "33/33 [==============================] - 0s 5ms/step - loss: 3.1355e-04 - accuracy: 1.0000 - val_loss: 0.6203 - val_accuracy: 0.9031\n",
            "Epoch 81/100\n",
            "33/33 [==============================] - 0s 5ms/step - loss: 3.0793e-04 - accuracy: 1.0000 - val_loss: 0.6244 - val_accuracy: 0.8992\n",
            "Epoch 82/100\n",
            "33/33 [==============================] - 0s 7ms/step - loss: 3.0050e-04 - accuracy: 1.0000 - val_loss: 0.6246 - val_accuracy: 0.9031\n",
            "Epoch 83/100\n",
            "33/33 [==============================] - 0s 5ms/step - loss: 2.8455e-04 - accuracy: 1.0000 - val_loss: 0.6268 - val_accuracy: 0.9031\n",
            "Epoch 84/100\n",
            "33/33 [==============================] - 0s 5ms/step - loss: 2.7634e-04 - accuracy: 1.0000 - val_loss: 0.6268 - val_accuracy: 0.9031\n",
            "Epoch 85/100\n",
            "33/33 [==============================] - 0s 6ms/step - loss: 2.7000e-04 - accuracy: 1.0000 - val_loss: 0.6328 - val_accuracy: 0.9031\n",
            "Epoch 86/100\n",
            "33/33 [==============================] - 0s 5ms/step - loss: 2.5915e-04 - accuracy: 1.0000 - val_loss: 0.6328 - val_accuracy: 0.9031\n",
            "Epoch 87/100\n",
            "33/33 [==============================] - 0s 6ms/step - loss: 2.5694e-04 - accuracy: 1.0000 - val_loss: 0.6387 - val_accuracy: 0.8992\n",
            "Epoch 88/100\n",
            "33/33 [==============================] - 0s 5ms/step - loss: 2.5604e-04 - accuracy: 1.0000 - val_loss: 0.6372 - val_accuracy: 0.9031\n",
            "Epoch 89/100\n",
            "33/33 [==============================] - 0s 5ms/step - loss: 2.4145e-04 - accuracy: 1.0000 - val_loss: 0.6364 - val_accuracy: 0.8992\n",
            "Epoch 90/100\n",
            "33/33 [==============================] - 0s 7ms/step - loss: 2.3367e-04 - accuracy: 1.0000 - val_loss: 0.6422 - val_accuracy: 0.9031\n",
            "Epoch 91/100\n",
            "33/33 [==============================] - 0s 5ms/step - loss: 2.2518e-04 - accuracy: 1.0000 - val_loss: 0.6425 - val_accuracy: 0.9031\n",
            "Epoch 92/100\n",
            "33/33 [==============================] - 0s 6ms/step - loss: 2.1954e-04 - accuracy: 1.0000 - val_loss: 0.6524 - val_accuracy: 0.9031\n",
            "Epoch 93/100\n",
            "33/33 [==============================] - 0s 5ms/step - loss: 2.2220e-04 - accuracy: 1.0000 - val_loss: 0.6466 - val_accuracy: 0.9031\n",
            "Epoch 94/100\n",
            "33/33 [==============================] - 0s 5ms/step - loss: 2.0820e-04 - accuracy: 1.0000 - val_loss: 0.6418 - val_accuracy: 0.9031\n",
            "Epoch 95/100\n",
            "33/33 [==============================] - 0s 6ms/step - loss: 2.0449e-04 - accuracy: 1.0000 - val_loss: 0.6461 - val_accuracy: 0.8992\n",
            "Epoch 96/100\n",
            "33/33 [==============================] - 0s 6ms/step - loss: 1.9892e-04 - accuracy: 1.0000 - val_loss: 0.6622 - val_accuracy: 0.9031\n",
            "Epoch 97/100\n",
            "33/33 [==============================] - 0s 5ms/step - loss: 1.9116e-04 - accuracy: 1.0000 - val_loss: 0.6489 - val_accuracy: 0.9031\n",
            "Epoch 98/100\n",
            "33/33 [==============================] - 0s 5ms/step - loss: 1.8763e-04 - accuracy: 1.0000 - val_loss: 0.6619 - val_accuracy: 0.9031\n",
            "Epoch 99/100\n",
            "33/33 [==============================] - 0s 5ms/step - loss: 1.7752e-04 - accuracy: 1.0000 - val_loss: 0.6598 - val_accuracy: 0.9031\n",
            "Epoch 100/100\n",
            "33/33 [==============================] - 0s 5ms/step - loss: 1.7176e-04 - accuracy: 1.0000 - val_loss: 0.6566 - val_accuracy: 0.9031\n"
          ]
        }
      ]
    },
    {
      "cell_type": "code",
      "source": [
        "test_loss, test_accuracy = model.evaluate(X_test, y_test)\n",
        "print(f'Test accuracy: {test_accuracy:.4f}')\n"
      ],
      "metadata": {
        "colab": {
          "base_uri": "https://localhost:8080/"
        },
        "id": "G_mLg1kWM21j",
        "outputId": "54a8b527-9ba2-4d97-8aa3-7d6125426fa2"
      },
      "execution_count": null,
      "outputs": [
        {
          "output_type": "stream",
          "name": "stdout",
          "text": [
            "9/9 [==============================] - 0s 3ms/step - loss: 0.6566 - accuracy: 0.9031\n",
            "Test accuracy: 0.9031\n"
          ]
        }
      ]
    },
    {
      "cell_type": "code",
      "source": [
        "model.save(\"connie-fr-model.h5\")"
      ],
      "metadata": {
        "id": "fH8wrxY4nHDs",
        "outputId": "6c93cffb-3996-42d4-dd1b-ca968b3dc690",
        "colab": {
          "base_uri": "https://localhost:8080/"
        }
      },
      "execution_count": null,
      "outputs": [
        {
          "output_type": "stream",
          "name": "stderr",
          "text": [
            "/usr/local/lib/python3.10/dist-packages/keras/src/engine/training.py:3000: UserWarning: You are saving your model as an HDF5 file via `model.save()`. This file format is considered legacy. We recommend using instead the native Keras format, e.g. `model.save('my_model.keras')`.\n",
            "  saving_api.save_model(\n"
          ]
        }
      ]
    }
  ]
}